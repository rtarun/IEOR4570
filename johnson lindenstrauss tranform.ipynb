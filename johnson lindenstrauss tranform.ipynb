{
 "cells": [
  {
   "cell_type": "code",
   "execution_count": null,
   "metadata": {
    "collapsed": false
   },
   "outputs": [],
   "source": [
    "import numpy as np\n",
    "import scipy\n",
    "from scipy.spatial import distance\n",
    "from scipy.linalg import circulant\n",
    "import math\n",
    "import random"
   ]
  },
  {
   "cell_type": "code",
   "execution_count": null,
   "metadata": {
    "collapsed": false
   },
   "outputs": [],
   "source": [
    "# generating the input matrix\n",
    "\n",
    "mu, sigma = 0, 1\n",
    "epsilon = 0.1\n",
    "N = 100 #number of data points\n",
    "n = 20 #original dimension\n",
    "\n",
    "d = (20*math.log(N))/(math.pow(epsilon,2)) #reduced dimension\n",
    "d = int(d)"
   ]
  },
  {
   "cell_type": "code",
   "execution_count": null,
   "metadata": {
    "collapsed": false
   },
   "outputs": [],
   "source": [
    "# Preparing the dataset\n",
    "\n",
    "X = [[np.random.normal(mu, sigma) for i in range(20)] for j in range(N)]\n",
    "myDataset = np.matrix(X)\n",
    "\n",
    "print(myDataset[0,:])"
   ]
  },
  {
   "cell_type": "code",
   "execution_count": null,
   "metadata": {
    "collapsed": false
   },
   "outputs": [],
   "source": [
    "# generating the Gaussian matrix to multiply with\n",
    "G = [[np.random.normal(mu, sigma) for i in range(n)] for j in range(d)]\n",
    "GaussMat = np.matrix(G)\n",
    "GaussMat"
   ]
  },
  {
   "cell_type": "code",
   "execution_count": null,
   "metadata": {
    "collapsed": false
   },
   "outputs": [],
   "source": [
    "# Johnson - Lindenstrauss Transform\n",
    "myDatasetT = np.transpose(myDataset)\n",
    "\n",
    "reducedMatrixT = np.dot(GaussMat,myDatasetT)\n",
    "reducedMatrixT = (1/math.sqrt(d))*reducedMatrixT\n",
    "reducedMatrix = np.transpose(reducedMatrixT)\n",
    "\n",
    "reducedMatrix"
   ]
  },
  {
   "cell_type": "markdown",
   "metadata": {},
   "source": [
    "Comparing Euclidean Distances for original matrix with the reduced matrix"
   ]
  },
  {
   "cell_type": "code",
   "execution_count": null,
   "metadata": {
    "collapsed": false
   },
   "outputs": [],
   "source": [
    "# Euclidean distances of orginal matrix\n",
    "EDmyDataset = []\n",
    "EDreducedDataset = []\n",
    "\n",
    "for i in range(0, N):\n",
    "    for j in range(i,N):\n",
    "        dst = distance.euclidean(myDataset[i],myDataset[j])\n",
    "        EDmyDataset.append(dst)\n",
    "\n",
    "# Euclidean distances of reduced matrix\n",
    "\n",
    "for i in range(0, N):\n",
    "    for j in range(i,N):\n",
    "        dst = distance.euclidean(reducedMatrix[i],reducedMatrix[j])\n",
    "        EDreducedDataset.append(dst)\n",
    "\n",
    "\n",
    "# randomly selected euclidean distances\n",
    "for i in range(0,50):\n",
    "    j = random.randint(0,99)\n",
    "    print(EDmyDataset[j])\n",
    "    print(EDreducedDataset[j])\n"
   ]
  },
  {
   "cell_type": "code",
   "execution_count": null,
   "metadata": {
    "collapsed": true
   },
   "outputs": [],
   "source": [
    "# fast JLT with Toeplitz Matrix instead of Gaussian matrix\n",
    "\n",
    "#from scipy.linalg import hadamard\n",
    "\n",
    "n=20\n",
    "H = pd.DataFrame(hadamard(2**5))\n",
    "H = H.iloc[:n,:n]\n",
    "\n",
    "z = np.random.binomial(1, .5, size=n)\n",
    "z[z==0] = -1\n",
    "z = np.diag(z)\n",
    "\n",
    "#df = pd.DataFrame(np.random.randn(100,20))\n",
    "#GM1 = pd.DataFrame(np.random.randn(d,20)) /(np.sqrt(d))\n",
    "#temp = np.array(df.T)\n",
    "y2  = pd.DataFrame(np.dot(np.array(z),temp).T)\n",
    "y3  = pd.DataFrame(np.dot(np.array(H),y2.T).T)\n",
    "\n",
    "z1 = np.random.binomial(1, .5, size=n)\n",
    "z1[z1==0] = -1\n",
    "z1 = np.diag(z1)\n",
    "\n",
    "y4  = pd.DataFrame(np.dot(np.array(z1),y3.T).T)\n",
    "\n",
    "from scipy.linalg import toeplitz\n",
    "a = np.random.randn(20)\n",
    "b=  np.random.randn(7)\n",
    "Top = toeplitz(b,a)\n",
    "\n",
    "y5  = pd.DataFrame(np.dot(np.array(Top),y4.T).T)\n",
    "\n",
    "for k in range(50):\n",
    "    p1 = int(np.floor(np.random.uniform()*100))\n",
    "    p2 = int(np.floor(np.random.uniform()*100))\n",
    "    d1 = d1 + [np.sqrt(sum((df.iloc[p1,:] - df.iloc[p2,:])**2))]\n",
    "    d2 = d2 + [np.sqrt(sum((y1.iloc[p1,:] - y1.iloc[p2,:])**2))]\n",
    "\n",
    "dis = pd.DataFrame({'D1':d1, 'D2':d2})\n",
    "dis['epslon'] = (dis['D2']/dis['D1']) - 1\n",
    "# eps = eps + [dis.epslon.mean()]\n",
    "dis.epslon.mean()"
   ]
  }
 ],
 "metadata": {
  "kernelspec": {
   "display_name": "Python 3",
   "language": "python",
   "name": "python3"
  },
  "language_info": {
   "codemirror_mode": {
    "name": "ipython",
    "version": 3
   },
   "file_extension": ".py",
   "mimetype": "text/x-python",
   "name": "python",
   "nbconvert_exporter": "python",
   "pygments_lexer": "ipython3",
   "version": "3.5.1"
  }
 },
 "nbformat": 4,
 "nbformat_minor": 0
}
